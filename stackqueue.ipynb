{
 "cells": [
  {
   "cell_type": "code",
   "execution_count": 2,
   "metadata": {},
   "outputs": [
    {
     "name": "stdout",
     "output_type": "stream",
     "text": [
      "['Amar', 'Akbar', 'Anthony', 'Ram', 'Iqbal']\n",
      "Iqbal\n",
      "['Amar', 'Akbar', 'Anthony', 'Ram']\n",
      "Ram\n",
      "['Amar', 'Akbar', 'Anthony']\n"
     ]
    }
   ],
   "source": [
    "stack = [\"Amar\", \"Akbar\", \"Anthony\"] \n",
    "stack.append(\"Ram\") \n",
    "stack.append(\"Iqbal\") \n",
    "print(stack) \n",
    "  \n",
    "# Removes the last item \n",
    "print(stack.pop()) \n",
    "  \n",
    "print(stack) \n",
    "  \n",
    "# Removes the last item \n",
    "print(stack.pop()) \n",
    "  \n",
    "print(stack)"
   ]
  },
  {
   "cell_type": "code",
   "execution_count": 3,
   "metadata": {},
   "outputs": [
    {
     "name": "stdout",
     "output_type": "stream",
     "text": [
      "deque(['Ram', 'Tarun', 'Asif', 'John'])\n",
      "deque(['Ram', 'Tarun', 'Asif', 'John', 'Akbar'])\n",
      "deque(['Ram', 'Tarun', 'Asif', 'John', 'Akbar', 'Birbal'])\n",
      "Birbal\n",
      "Akbar\n",
      "deque(['Ram', 'Tarun', 'Asif', 'John'])\n"
     ]
    }
   ],
   "source": [
    "from collections import deque \n",
    "queue = deque([\"Ram\", \"Tarun\", \"Asif\", \"John\"]) \n",
    "print(queue) \n",
    "queue.append(\"Akbar\") \n",
    "print(queue) \n",
    "queue.append(\"Birbal\") \n",
    "print(queue) \n",
    "print(queue.pop())                  \n",
    "print(queue.pop())                  \n",
    "print(queue) "
   ]
  },
  {
   "cell_type": "code",
   "execution_count": 1,
   "metadata": {},
   "outputs": [],
   "source": [
    "def shortest_path(graph, start, goal):\n",
    "    visited = []\n",
    "    queue = [[start]]\n",
    "     \n",
    "    # If the desired node is \n",
    "    # reached\n",
    "    if start == goal:\n",
    "        print(\"Same Node\")\n",
    "        return\n",
    "     \n",
    "    # Loop to traverse the graph \n",
    "    # with the help of the queue\n",
    "    while queue:\n",
    "        path = queue.pop(0)\n",
    "        node = path[-1]\n",
    "        print(path)\n",
    "        print(node)\n",
    "        print('\\n')\n",
    "        if node not in visited:\n",
    "            neighbours = graph[node]\n",
    "             \n",
    "            for neighbour in neighbours:\n",
    "                new_path = list(path)\n",
    "                new_path.append(neighbour)\n",
    "                queue.append(new_path)\n",
    "                 \n",
    "                if neighbour == goal:\n",
    "                    print(\"Shortest path = \", *new_path)\n",
    "                    return\n",
    "            visited.append(node)\n",
    " \n",
    "    print(\"path doesnt exist\")\n",
    "    return"
   ]
  }
 ],
 "metadata": {
  "kernelspec": {
   "display_name": "Python 3",
   "language": "python",
   "name": "python3"
  },
  "language_info": {
   "codemirror_mode": {
    "name": "ipython",
    "version": 3
   },
   "file_extension": ".py",
   "mimetype": "text/x-python",
   "name": "python",
   "nbconvert_exporter": "python",
   "pygments_lexer": "ipython3",
   "version": "3.10.12"
  }
 },
 "nbformat": 4,
 "nbformat_minor": 2
}
