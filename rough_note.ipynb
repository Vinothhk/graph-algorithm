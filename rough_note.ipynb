{
 "cells": [
  {
   "cell_type": "code",
   "execution_count": 5,
   "metadata": {},
   "outputs": [
    {
     "ename": "ModuleNotFoundError",
     "evalue": "No module named 'dequem'",
     "output_type": "error",
     "traceback": [
      "\u001b[0;31m---------------------------------------------------------------------------\u001b[0m",
      "\u001b[0;31mModuleNotFoundError\u001b[0m                       Traceback (most recent call last)",
      "Cell \u001b[0;32mIn[5], line 2\u001b[0m\n\u001b[1;32m      1\u001b[0m \u001b[38;5;28;01mimport\u001b[39;00m \u001b[38;5;21;01mheapq\u001b[39;00m\n\u001b[0;32m----> 2\u001b[0m \u001b[38;5;28;01mimport\u001b[39;00m \u001b[38;5;21;01mdequem\u001b[39;00m\n",
      "\u001b[0;31mModuleNotFoundError\u001b[0m: No module named 'dequem'"
     ]
    }
   ],
   "source": [
    "import heapq\n",
    "import "
   ]
  },
  {
   "cell_type": "code",
   "execution_count": 3,
   "metadata": {},
   "outputs": [
    {
     "name": "stdout",
     "output_type": "stream",
     "text": [
      "[4, 12, 32, 13, 40]\n",
      "[12, 13, 32, 40]\n",
      "[13, 40, 32]\n",
      "[32, 40]\n",
      "[32, 40, 120]\n"
     ]
    }
   ],
   "source": [
    "lst = [12,4,32,13,40]\n",
    "heapq.heapify(lst)\n",
    "print(list(lst))\n",
    "\n",
    "heapq.heappop(lst)\n",
    "print(list(lst))\n",
    "heapq.heappop(lst)\n",
    "print(list(lst))\n",
    "heapq.heappop(lst)\n",
    "print(list(lst))\n",
    "heapq.heappush(lst,120)\n",
    "print(list(lst))"
   ]
  },
  {
   "cell_type": "code",
   "execution_count": null,
   "metadata": {},
   "outputs": [],
   "source": []
  },
  {
   "cell_type": "code",
   "execution_count": 51,
   "metadata": {},
   "outputs": [
    {
     "name": "stdout",
     "output_type": "stream",
     "text": [
      "Large elements: [40]\n",
      "Small Elements: [4]\n"
     ]
    }
   ],
   "source": [
    "large_elements =  heapq.nlargest(1,lst)\n",
    "small_elements = heapq.nsmallest(1,lst)\n",
    "\n",
    "print(f'Large elements: {large_elements}')\n",
    "print(f'Small Elements: {small_elements}')"
   ]
  }
 ],
 "metadata": {
  "kernelspec": {
   "display_name": "Python 3",
   "language": "python",
   "name": "python3"
  },
  "language_info": {
   "codemirror_mode": {
    "name": "ipython",
    "version": 3
   },
   "file_extension": ".py",
   "mimetype": "text/x-python",
   "name": "python",
   "nbconvert_exporter": "python",
   "pygments_lexer": "ipython3",
   "version": "3.10.12"
  }
 },
 "nbformat": 4,
 "nbformat_minor": 2
}
