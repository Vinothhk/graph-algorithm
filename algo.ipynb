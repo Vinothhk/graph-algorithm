{
 "cells": [
  {
   "cell_type": "code",
   "execution_count": 1,
   "metadata": {},
   "outputs": [
    {
     "data": {
      "text/plain": [
       "{1: [2, 4],\n",
       " 2: [1, 4, 5],\n",
       " 3: [7, 8],\n",
       " 4: [2, 6, 1],\n",
       " 5: [2, 7],\n",
       " 6: [4, 8],\n",
       " 7: [3, 5],\n",
       " 8: [3, 6],\n",
       " 9: []}"
      ]
     },
     "execution_count": 1,
     "metadata": {},
     "output_type": "execute_result"
    },
    {
     "data": {
      "image/png": "[encoded data removed]",
      "text/plain": [
       "<Figure size 640x480 with 1 Axes>"
      ]
     },
     "metadata": {},
     "output_type": "display_data"
    }
   ],
   "source": [
    "from collections import deque\n",
    "import networkx as nx\n",
    "from collections import deque\n",
    "import matplotlib.pyplot as plt\n",
    "\n",
    "G = nx.Graph()\n",
    "G.add_nodes_from ([1,2,3,4,5,6,7,8,9])\n",
    "G.add_edges_from([(1,2),(7,3),(2,4),(2,5),(4,6),(4,1),(7,5),(8,3),(8,6)])\n",
    "nx.draw(G, with_labels =True)\n",
    "\n",
    "details = {\n",
    "            1 : list(G.neighbors(1)),\n",
    "            2 : list(G.neighbors(2)),\n",
    "            3 : list(G.neighbors(3)),\n",
    "            4 : list(G.neighbors(4)),\n",
    "            5 : list(G.neighbors(5)),\n",
    "            6 : list(G.neighbors(6)),\n",
    "            7 : list(G.neighbors(7)),\n",
    "            8 : list(G.neighbors(8)),\n",
    "            9 : list(G.neighbors(9))}\n",
    "\n",
    "details"
   ]
  },
  {
   "cell_type": "code",
   "execution_count": 2,
   "metadata": {},
   "outputs": [],
   "source": [
    "def shortest_path(graph, start, goal):\n",
    "    visited = []\n",
    "    queue = deque(maxlen=10)\n",
    "    \n",
    "    queue.append([start])\n",
    "    print(queue)\n",
    "\n",
    "    if start == goal:\n",
    "        print(\"Start and Goal Node are same\")\n",
    "        return\n",
    "     \n",
    "    while len(queue)!=0:\n",
    "        print(f'queue {queue}')\n",
    "        path = queue.popleft()\n",
    "        node = path[-1]\n",
    "        print(f'path : {path}')\n",
    "        print(f'node: {node}')\n",
    "        if node not in visited:\n",
    "            neighbours = graph[node]\n",
    "             \n",
    "            for neighbour in neighbours:\n",
    "                new_path = list(path)\n",
    "                new_path.append(neighbour)\n",
    "                queue.append(new_path)\n",
    "                print(f'New path: {new_path}')\n",
    "                if neighbour == goal:\n",
    "                    print(\"Shortest path = \", *new_path)\n",
    "                    return\n",
    "            visited.append(node)\n",
    "            print(f'visited: {visited}')\n",
    "    print(\"Path doesn't exist!!\")\n",
    "    return"
   ]
  },
  {
   "cell_type": "code",
   "execution_count": 4,
   "metadata": {},
   "outputs": [
    {
     "name": "stdout",
     "output_type": "stream",
     "text": [
      "deque([[2]], maxlen=10)\n",
      "queue deque([[2]], maxlen=10)\n",
      "path : [2]\n",
      "node: 2\n",
      "New path: [2, 1]\n",
      "New path: [2, 4]\n",
      "New path: [2, 5]\n",
      "visited: [2]\n",
      "queue deque([[2, 1], [2, 4], [2, 5]], maxlen=10)\n",
      "path : [2, 1]\n",
      "node: 1\n",
      "New path: [2, 1, 2]\n",
      "New path: [2, 1, 4]\n",
      "visited: [2, 1]\n",
      "queue deque([[2, 4], [2, 5], [2, 1, 2], [2, 1, 4]], maxlen=10)\n",
      "path : [2, 4]\n",
      "node: 4\n",
      "New path: [2, 4, 2]\n",
      "New path: [2, 4, 6]\n",
      "New path: [2, 4, 1]\n",
      "visited: [2, 1, 4]\n",
      "queue deque([[2, 5], [2, 1, 2], [2, 1, 4], [2, 4, 2], [2, 4, 6], [2, 4, 1]], maxlen=10)\n",
      "path : [2, 5]\n",
      "node: 5\n",
      "New path: [2, 5, 2]\n",
      "New path: [2, 5, 7]\n",
      "visited: [2, 1, 4, 5]\n",
      "queue deque([[2, 1, 2], [2, 1, 4], [2, 4, 2], [2, 4, 6], [2, 4, 1], [2, 5, 2], [2, 5, 7]], maxlen=10)\n",
      "path : [2, 1, 2]\n",
      "node: 2\n",
      "queue deque([[2, 1, 4], [2, 4, 2], [2, 4, 6], [2, 4, 1], [2, 5, 2], [2, 5, 7]], maxlen=10)\n",
      "path : [2, 1, 4]\n",
      "node: 4\n",
      "queue deque([[2, 4, 2], [2, 4, 6], [2, 4, 1], [2, 5, 2], [2, 5, 7]], maxlen=10)\n",
      "path : [2, 4, 2]\n",
      "node: 2\n",
      "queue deque([[2, 4, 6], [2, 4, 1], [2, 5, 2], [2, 5, 7]], maxlen=10)\n",
      "path : [2, 4, 6]\n",
      "node: 6\n",
      "New path: [2, 4, 6, 4]\n",
      "New path: [2, 4, 6, 8]\n",
      "visited: [2, 1, 4, 5, 6]\n",
      "queue deque([[2, 4, 1], [2, 5, 2], [2, 5, 7], [2, 4, 6, 4], [2, 4, 6, 8]], maxlen=10)\n",
      "path : [2, 4, 1]\n",
      "node: 1\n",
      "queue deque([[2, 5, 2], [2, 5, 7], [2, 4, 6, 4], [2, 4, 6, 8]], maxlen=10)\n",
      "path : [2, 5, 2]\n",
      "node: 2\n",
      "queue deque([[2, 5, 7], [2, 4, 6, 4], [2, 4, 6, 8]], maxlen=10)\n",
      "path : [2, 5, 7]\n",
      "node: 7\n",
      "New path: [2, 5, 7, 3]\n",
      "Shortest path =  2 5 7 3\n"
     ]
    }
   ],
   "source": [
    "shortest_path(G,2,3)"
   ]
  }
 ],
 "metadata": {
  "kernelspec": {
   "display_name": "Python 3",
   "language": "python",
   "name": "python3"
  },
  "language_info": {
   "codemirror_mode": {
    "name": "ipython",
    "version": 3
   },
   "file_extension": ".py",
   "mimetype": "text/x-python",
   "name": "python",
   "nbconvert_exporter": "python",
   "pygments_lexer": "ipython3",
   "version": "3.10.12"
  }
 },
 "nbformat": 4,
 "nbformat_minor": 2
}
